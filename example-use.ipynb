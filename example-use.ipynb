{
 "cells": [
  {
   "cell_type": "markdown",
   "metadata": {},
   "source": [
    "# Demonstration of PatentTools"
   ]
  },
  {
   "cell_type": "markdown",
   "metadata": {},
   "source": [
    "PatentTools is a collection of basic tools for fetching and interpreting patent information. It currently supports only US Patents.\n",
    "\n",
    "Its basic input is a US Patent number. It provides bibliographic information about the patent (title, assignee, etc.). "
   ]
  },
  {
   "cell_type": "markdown",
   "metadata": {},
   "source": [
    "## Fetch and parse the patent"
   ]
  },
  {
   "cell_type": "code",
   "execution_count": 1,
   "metadata": {},
   "outputs": [],
   "source": [
    "lookup_num = \"US 8,622,391\""
   ]
  },
  {
   "cell_type": "code",
   "execution_count": 2,
   "metadata": {},
   "outputs": [],
   "source": [
    "from patenttools import USPTOLookup"
   ]
  },
  {
   "cell_type": "code",
   "execution_count": 3,
   "metadata": {},
   "outputs": [],
   "source": [
    "patent = USPTOLookup(lookup_num)"
   ]
  },
  {
   "cell_type": "code",
   "execution_count": 4,
   "metadata": {},
   "outputs": [
    {
     "data": {
      "text/plain": [
       "'Self-contained dice shaker system '"
      ]
     },
     "execution_count": 4,
     "metadata": {},
     "output_type": "execute_result"
    }
   ],
   "source": [
    "patent.title"
   ]
  },
  {
   "cell_type": "code",
   "execution_count": 5,
   "metadata": {},
   "outputs": [
    {
     "data": {
      "text/plain": [
       "'IGT (Reno, NV)'"
      ]
     },
     "execution_count": 5,
     "metadata": {},
     "output_type": "execute_result"
    }
   ],
   "source": [
    "patent.assignee"
   ]
  },
  {
   "cell_type": "code",
   "execution_count": 6,
   "metadata": {},
   "outputs": [
    {
     "data": {
      "text/plain": [
       "'January 3, 2013'"
      ]
     },
     "execution_count": 6,
     "metadata": {},
     "output_type": "execute_result"
    }
   ],
   "source": [
    "patent.filing_date"
   ]
  },
  {
   "cell_type": "code",
   "execution_count": 7,
   "metadata": {},
   "outputs": [
    {
     "name": "stdout",
     "output_type": "stream",
     "text": [
      "2109736 /netacgi/nph-Parser?Sect2=PTO1&Sect2=HITOFF&p=1&u=%2Fnetahtml%2FPTO%2Fsearch-bool.html&r=1&f=G&l=50&d=PALL&RefSrch=yes&Query=PN%2F2109736\n",
      "2302333 /netacgi/nph-Parser?Sect2=PTO1&Sect2=HITOFF&p=1&u=%2Fnetahtml%2FPTO%2Fsearch-bool.html&r=1&f=G&l=50&d=PALL&RefSrch=yes&Query=PN%2F2302333\n",
      "2619349 /netacgi/nph-Parser?Sect2=PTO1&Sect2=HITOFF&p=1&u=%2Fnetahtml%2FPTO%2Fsearch-bool.html&r=1&f=G&l=50&d=PALL&RefSrch=yes&Query=PN%2F2619349\n",
      "2693962 /netacgi/nph-Parser?Sect2=PTO1&Sect2=HITOFF&p=1&u=%2Fnetahtml%2FPTO%2Fsearch-bool.html&r=1&f=G&l=50&d=PALL&RefSrch=yes&Query=PN%2F2693962\n",
      "3508755 /netacgi/nph-Parser?Sect2=PTO1&Sect2=HITOFF&p=1&u=%2Fnetahtml%2FPTO%2Fsearch-bool.html&r=1&f=G&l=50&d=PALL&RefSrch=yes&Query=PN%2F3508755\n"
     ]
    }
   ],
   "source": [
    "for i in range(0, 5):\n",
    "    print(patent.cited_nums[i], patent.cited_links[i])"
   ]
  },
  {
   "cell_type": "code",
   "execution_count": 8,
   "metadata": {},
   "outputs": [
    {
     "data": {
      "text/plain": [
       "'1. A method of operating a self-contained dice shaker assembly, the dice shaker assembly including one or more dice, the method comprising: detecting, using one or more electronic sensors of the self-contained dice shaker assembly, motion associated with the dice; determining, using one or more electronic processors of the self-contained dice shaker assembly, whether the detected motion satisfies one or more predetermined motion parameters; and transmitting, a communication device of the self-contained dice shaker assembly, information related to the detected motion to an external device.'"
      ]
     },
     "execution_count": 8,
     "metadata": {},
     "output_type": "execute_result"
    }
   ],
   "source": [
    "patent.claims[0]"
   ]
  },
  {
   "cell_type": "markdown",
   "metadata": {},
   "source": [
    "## The TextDistiller class."
   ]
  },
  {
   "cell_type": "markdown",
   "metadata": {},
   "source": [
    "In conjunction with an instance of the TextDistiller class, PatentTools may highlight sentences may be pulled from the claims and/or description sections; highlights are selected based on word frequencies. "
   ]
  },
  {
   "cell_type": "code",
   "execution_count": 9,
   "metadata": {},
   "outputs": [],
   "source": [
    "from patenttools.distiller import TextDistiller"
   ]
  },
  {
   "cell_type": "code",
   "execution_count": 10,
   "metadata": {},
   "outputs": [],
   "source": [
    "claims_distiller = TextDistiller(\" \".join(patent.claims))"
   ]
  },
  {
   "cell_type": "markdown",
   "metadata": {},
   "source": [
    "By default, three sentences are selected to highlight. The results are returned as a list:"
   ]
  },
  {
   "cell_type": "code",
   "execution_count": 11,
   "metadata": {},
   "outputs": [
    {
     "data": {
      "text/plain": [
       "['A method of operating a self-contained dice shaker assembly, the dice shaker assembly including one or more dice, the method comprising: detecting, using one or more electronic sensors of the self-contained dice shaker assembly, motion associated with the dice; determining, using one or more electronic processors of the self-contained dice shaker assembly, whether the detected motion satisfies one or more predetermined motion parameters; and transmitting, a communication device of the self-contained dice shaker assembly, information related to the detected motion to an external device.',\n",
       " 'A method of operating a self-contained dice shaker assembly, the dice shaker assembly including one or more dice, the method comprising: detecting, using one or more electronic sensors of the self-contained dice shaker assembly, motion associated with the dice; monitoring, using one or more electronic processors of the self-contained dice shaker assembly, a shake quality during a shaking event by determining whether the detected motion satisfies one or more predetermined motion parameters; and transmitting, using a communication device of the self-contained dice shaker assembly, information related to the shake quality to an external device.',\n",
       " 'The method of claim 1, wherein determining whether the detected motion satisfies one or more predetermined motion parameters comprises determining, using the one or more electronic processors, whether the dice shaker assembly is lifted from a table and the one or more dice contact a cover member of the dice shaker assembly at least a threshold number of times.']"
      ]
     },
     "execution_count": 11,
     "metadata": {},
     "output_type": "execute_result"
    }
   ],
   "source": [
    "claims_distiller.highlights"
   ]
  },
  {
   "cell_type": "code",
   "execution_count": 12,
   "metadata": {},
   "outputs": [],
   "source": [
    "desc_distiller = TextDistiller(patent.description)"
   ]
  },
  {
   "cell_type": "markdown",
   "metadata": {},
   "source": [
    "Users may specify an alternative number of highlights, too:"
   ]
  },
  {
   "cell_type": "code",
   "execution_count": 13,
   "metadata": {},
   "outputs": [
    {
     "data": {
      "text/plain": [
       "['The dice shaker assembly illustrated in FIG.',\n",
       " 'Dice shaker assembly 100 includes dice receptacle 104, cover member 108, and sensor assembly 112.']"
      ]
     },
     "execution_count": 13,
     "metadata": {},
     "output_type": "execute_result"
    }
   ],
   "source": [
    "desc_distiller.gen_highlights(num_top_sentences = 2)"
   ]
  },
  {
   "cell_type": "markdown",
   "metadata": {},
   "source": [
    "## The PatentTree class."
   ]
  },
  {
   "cell_type": "markdown",
   "metadata": {},
   "source": [
    "Instances of the PatentTree class are used to understand the broader significance of a patent in the context of the other patents that it cites. Instantiating this class with a patent number automatically looks up and parses *all the S Patents cited by the user-specified patent*. Due to rate limits for this request, this process can take several minutes."
   ]
  },
  {
   "cell_type": "code",
   "execution_count": 14,
   "metadata": {},
   "outputs": [],
   "source": [
    "from patenttools import PatentTree"
   ]
  },
  {
   "cell_type": "code",
   "execution_count": 15,
   "metadata": {},
   "outputs": [
    {
     "name": "stdout",
     "output_type": "stream",
     "text": [
      "Reading cited patents. This will take some time...\n",
      "Hit a server-imposed rate limit. Waiting 10 s.\n",
      "Status: 43 / 43\r"
     ]
    }
   ],
   "source": [
    "parent_patent = PatentTree(lookup_num)"
   ]
  },
  {
   "cell_type": "code",
   "execution_count": 16,
   "metadata": {},
   "outputs": [
    {
     "data": {
      "text/plain": [
       "[('IGT (Reno, NV)', 6),\n",
       " ('Monson; Marvin (Denver, CO)', 1),\n",
       " ('Woodall, Jr.; William E. (Benson, NC)', 1),\n",
       " ('Other', 26)]"
      ]
     },
     "execution_count": 16,
     "metadata": {},
     "output_type": "execute_result"
    }
   ],
   "source": [
    "parent_patent.most_cited_assignees"
   ]
  },
  {
   "cell_type": "markdown",
   "metadata": {},
   "source": [
    "The entire body of cited US Patent literature is combined into a single corpus:"
   ]
  },
  {
   "cell_type": "code",
   "execution_count": 17,
   "metadata": {},
   "outputs": [
    {
     "data": {
      "text/plain": [
       "' The present invention relates to amusement devices and to games of chance, and more particularly to a dice shaker assembly and die channels therefor that are provided with means to prevent a die from lodging as it moves between the extreme ends of the die channel. \\n\\nBACKGROUND OF THE INVENTION \\n\\nIn U.S.  Pat.  No. 3,820,792, I disclosed a dice shaker assembly that could be used in a variety of dice games, and which was particularly designed to be used in games such as \"Liars Poker.\" Basically t'"
      ]
     },
     "execution_count": 17,
     "metadata": {},
     "output_type": "execute_result"
    }
   ],
   "source": [
    "parent_patent.cited_corpus[:500]"
   ]
  },
  {
   "cell_type": "markdown",
   "metadata": {},
   "source": [
    "The combined corpus can then be supplied to the TextDistiller class to generate bigrams to provide a sense for the important features of the patented works."
   ]
  },
  {
   "cell_type": "code",
   "execution_count": 18,
   "metadata": {},
   "outputs": [],
   "source": [
    "cited_distiller = TextDistiller(parent_patent.cited_corpus)"
   ]
  },
  {
   "cell_type": "markdown",
   "metadata": {},
   "source": [
    "By default, 25 bigrams are returned with a window size of 3 and a frequency filter of 5:"
   ]
  },
  {
   "cell_type": "code",
   "execution_count": 19,
   "metadata": {},
   "outputs": [
    {
     "data": {
      "text/plain": [
       "[('chuck', 'luck'),\n",
       " ('reversed', 'etched'),\n",
       " ('pai', 'gow'),\n",
       " ('private', 'branch'),\n",
       " ('tilt', 'tip'),\n",
       " ('japanese', 'laid'),\n",
       " ('look', 'feel'),\n",
       " ('mixing', 'dispensing'),\n",
       " ('appended', 'claim'),\n",
       " ('j', 'k'),\n",
       " ('neon', 'lamp'),\n",
       " ('regional', 'office'),\n",
       " ('hierarchy', 'graphic'),\n",
       " ('air', 'bubble'),\n",
       " ('accelerometer', 'tilt'),\n",
       " ('codec', 'dsp'),\n",
       " ('void', 'cutout'),\n",
       " ('pitch', 'degree'),\n",
       " ('departing', 'spirit'),\n",
       " ('branch', 'exchange'),\n",
       " ('household', 'book'),\n",
       " ('human', 'discernable'),\n",
       " ('corporate', 'headquarters'),\n",
       " ('varying', 'degree'),\n",
       " ('fwdarw', 'fwdarw')]"
      ]
     },
     "execution_count": 19,
     "metadata": {},
     "output_type": "execute_result"
    }
   ],
   "source": [
    "cited_distiller.bigrams"
   ]
  },
  {
   "cell_type": "markdown",
   "metadata": {},
   "source": [
    "Alternative window sizes and frequency filters may also be supplied:"
   ]
  },
  {
   "cell_type": "code",
   "execution_count": 20,
   "metadata": {},
   "outputs": [
    {
     "data": {
      "text/plain": [
       "[('playing', 'piece'),\n",
       " ('gaming', 'element'),\n",
       " ('portable', 'telephone'),\n",
       " ('shaker', 'assembly'),\n",
       " ('communication', 'link'),\n",
       " ('dice', 'shaker'),\n",
       " ('remote', 'communication'),\n",
       " ('portable', 'communication'),\n",
       " ('communication', 'interface'),\n",
       " ('dice', 'assembly'),\n",
       " ('portable', 'device'),\n",
       " ('communication', 'device'),\n",
       " ('remote', 'device'),\n",
       " ('communication', 'remote'),\n",
       " ('shake', 'dice'),\n",
       " ('communication', 'communication'),\n",
       " ('dice', 'game'),\n",
       " ('device', 'device'),\n",
       " ('device', 'communication'),\n",
       " ('one', 'dice'),\n",
       " ('dice', 'dice'),\n",
       " ('dice', 'one')]"
      ]
     },
     "execution_count": 20,
     "metadata": {},
     "output_type": "execute_result"
    }
   ],
   "source": [
    "more_bigrams = cited_distiller.gen_bigrams(win_size = 5, freq_filter = 100)\n",
    "more_bigrams"
   ]
  }
 ],
 "metadata": {
  "kernelspec": {
   "display_name": "Apr-21",
   "language": "python",
   "name": "apr-21"
  },
  "language_info": {
   "codemirror_mode": {
    "name": "ipython",
    "version": 3
   },
   "file_extension": ".py",
   "mimetype": "text/x-python",
   "name": "python",
   "nbconvert_exporter": "python",
   "pygments_lexer": "ipython3",
   "version": "3.9.2"
  }
 },
 "nbformat": 4,
 "nbformat_minor": 4
}
